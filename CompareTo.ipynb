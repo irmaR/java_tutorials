{
 "cells": [
  {
   "cell_type": "markdown",
   "metadata": {},
   "source": [
    "# A tutorial on compareTo() method in Java\n",
    "\n",
    "In this tutorial we will see how to overide compareTo() method in Java that is used when we need to sort elements in some collection. \n",
    "\n",
    "When a class implements Comparable interface it needs to provide its own implementation of\n",
    "int compareTo(T o) method. This method returns the following:\n",
    "0 - if this object is equal to object o \n",
    "1 - if this object is larger than object o\n",
    "-1 - if this object is smaller than object o\n",
    "\n",
    "As a programmer, for your own custom made class you need to decide for yourself what it means for one object to be smaller/larger than another object it is compared to.\n",
    "The common classes in Java we use already provide this definition."
   ]
  },
  {
   "cell_type": "markdown",
   "metadata": {},
   "source": [
    "## Comparing Strings and Integers\n",
    "Strings are compared alphabetically and Integers are compared by the order as it's defined in math. "
   ]
  },
  {
   "cell_type": "code",
   "execution_count": null,
   "metadata": {},
   "outputs": [],
   "source": [
    "String a = new String(\"a\");\n",
    "String b = new String(\"b\");\n",
    "String c = new String(\"c\");\n",
    "String d = new String(\"aba\");\n",
    "String e = new String(\"abb\");\n",
    "\n",
    "\n",
    "System.out.println(a.compareTo(b)); //returns -1: \"a\" is smaller alphabetically than \"b\"\n",
    "System.out.println(a.compareTo(a)); //returns 0; \"a\" is alphabetically equal to \"a\"\n",
    "System.out.println(c.compareTo(b)); //returns 1\" \"c\" is alphabetically after \"b\"\n",
    "System.out.println(d.compareTo(e)); //returns -1: \"aba\" is smaller alphabetically than \"abb\""
   ]
  },
  {
   "cell_type": "markdown",
   "metadata": {},
   "source": [
    "This work similarly for Integers."
   ]
  },
  {
   "cell_type": "code",
   "execution_count": null,
   "metadata": {},
   "outputs": [],
   "source": [
    "Integer a = new Integer(3);\n",
    "Integer b = new Integer(4);\n",
    "\n",
    "System.out.println(a.compareTo(b)); //returns -1: 3 is smaller than 4\n",
    "System.out.println(b.compareTo(b));//returns 0: 3 is equal to 3\n"
   ]
  },
  {
   "cell_type": "markdown",
   "metadata": {},
   "source": [
    "## Sorting collections of Integers (or similar Java classes)\n",
    "Now let us see how a defined compareTo() method is used to sort Integer. This is very easy: we need to put them in a collection and sort. Since they have compareTo() method defined/implemented, the sort function will know how to sort them."
   ]
  },
  {
   "cell_type": "code",
   "execution_count": null,
   "metadata": {},
   "outputs": [],
   "source": [
    "import java.util.List;\n",
    "import java.util.ArrayList;\n",
    "import java.util.Collections;\n",
    "\n",
    "List<Integer> myList = new ArrayList<>();\n",
    "myList.add(4);\n",
    "myList.add(2);\n",
    "myList.add(-1);\n",
    "Collections.sort(myList); //sort() method will change the myList to be sorted\n",
    "System.out.println(myList); //sorted\n",
    "\n"
   ]
  },
  {
   "cell_type": "markdown",
   "metadata": {},
   "source": [
    "# Comparing objects of custom made classes\n",
    "Often you will create your own classes from scratch to represent concepts with properties and behaviours in your problem. If we create our own class, in a similar fashion for having to override equals() and toString() method, we also need to implement a method that will say how our objects are compared. That method doesn't come from Object class, but from Java's Comparable interface. Here is one example below."
   ]
  },
  {
   "cell_type": "code",
   "execution_count": 84,
   "metadata": {},
   "outputs": [],
   "source": [
    "class Person implements Comparable<Person>{ //we will always compare Users to other Users\n",
    "    private double height;\n",
    "    \n",
    "    Person(double height){\n",
    "        this.height = height;\n",
    "    }\n",
    "    \n",
    "    public int compareTo(Person other){\n",
    "        if(Math.abs(this.height - other.height) < 1e-4) //the way to check if two floating-points numbers are equal\n",
    "            return 0;\n",
    "        if(this.height < other.height)\n",
    "            return -1;\n",
    "        return 1;\n",
    "    }\n",
    "    \n",
    "    @Override\n",
    "    public String toString(){\n",
    "        return String.valueOf(this.height);\n",
    "    }\n",
    "}"
   ]
  },
  {
   "cell_type": "markdown",
   "metadata": {},
   "source": [
    "Let us create two objects of class Person with some heights. And let us compare them according to the compareTo() method we just wrote."
   ]
  },
  {
   "cell_type": "code",
   "execution_count": 87,
   "metadata": {},
   "outputs": [
    {
     "name": "stdout",
     "output_type": "stream",
     "text": [
      "-1\n"
     ]
    }
   ],
   "source": [
    "Person a = new Person(5.09);\n",
    "Person b = new Person(5.10);\n",
    "System.out.println(a.compareTo(b)); //this will print -1 because person a is shorter than person b"
   ]
  },
  {
   "cell_type": "markdown",
   "metadata": {},
   "source": [
    "Great. Now we made our custom class User with a single attribute height and we defined how to compare two users based on their height. Now it's easy for us to sort them based on that information."
   ]
  },
  {
   "cell_type": "code",
   "execution_count": 88,
   "metadata": {},
   "outputs": [
    {
     "name": "stdout",
     "output_type": "stream",
     "text": [
      "[5.06, 5.09, 5.1]\n"
     ]
    }
   ],
   "source": [
    "List<Person> people = new ArrayList<>();\n",
    "people.add(new Person(5.09));\n",
    "people.add(new Person(5.06));\n",
    "people.add(new Person(5.10));\n",
    "Collections.sort(people);\n",
    "System.out.println(people);"
   ]
  },
  {
   "cell_type": "markdown",
   "metadata": {},
   "source": [
    "And there we have it. A list of people is sorted based on their hight in the ascending order."
   ]
  },
  {
   "cell_type": "code",
   "execution_count": null,
   "metadata": {},
   "outputs": [],
   "source": []
  }
 ],
 "metadata": {
  "kernelspec": {
   "display_name": "Java",
   "language": "java",
   "name": "java"
  },
  "language_info": {
   "codemirror_mode": "java",
   "file_extension": ".jshell",
   "mimetype": "text/x-java-source",
   "name": "Java",
   "pygments_lexer": "java",
   "version": "11.0.4+11-post-Ubuntu-1ubuntu218.04.3"
  }
 },
 "nbformat": 4,
 "nbformat_minor": 2
}
